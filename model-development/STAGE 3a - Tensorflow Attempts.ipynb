{
 "cells": [
  {
   "cell_type": "markdown",
   "metadata": {},
   "source": [
    "<h2> Import Requirements and Data </h2>"
   ]
  },
  {
   "cell_type": "code",
   "execution_count": 1,
   "metadata": {},
   "outputs": [
    {
     "name": "stderr",
     "output_type": "stream",
     "text": [
      "Using TensorFlow backend.\n"
     ]
    }
   ],
   "source": [
    "import tensorflow as tf\n",
    "import keras\n",
    "import sklearn.metrics\n",
    "import sklearn.preprocessing\n",
    "import sklearn.feature_selection\n",
    "from sklearn.pipeline import Pipeline\n",
    "from sklearn.model_selection import train_test_split\n",
    "import pandas as pd\n",
    "import numpy as np\n",
    "import scipy as sp\n",
    "import pickle\n",
    "import gc\n",
    "import psutil\n",
    "import matplotlib.pyplot as plt\n",
    "import seaborn as sns"
   ]
  },
  {
   "cell_type": "code",
   "execution_count": 2,
   "metadata": {
    "collapsed": true
   },
   "outputs": [
    {
     "name": "stderr",
     "output_type": "stream",
     "text": [
      "/anaconda3/lib/python3.6/site-packages/sklearn/base.py:306: UserWarning: Trying to unpickle estimator LabelEncoder from version 0.19.2 when using version 0.21.2. This might lead to breaking code or invalid results. Use at your own risk.\n",
      "  UserWarning)\n",
      "/anaconda3/lib/python3.6/site-packages/sklearn/base.py:306: UserWarning: Trying to unpickle estimator LabelEncoder from version 0.19.2 when using version 0.21.2. This might lead to breaking code or invalid results. Use at your own risk.\n",
      "  UserWarning)\n"
     ]
    }
   ],
   "source": [
    "with open('./classifdatafull.pkl', 'rb') as f:\n",
    "    cfdata = pickle.load(f)\n",
    "with open('labencdist.pkl', 'rb') as f:\n",
    "    labencdist = pickle.load(f)\n",
    "with open('labencsector.pkl', 'rb') as f:\n",
    "    labencsec = pickle.load(f)"
   ]
  },
  {
   "cell_type": "markdown",
   "metadata": {},
   "source": [
    "<h2> Design Tensorflow ANN </h2>"
   ]
  },
  {
   "cell_type": "markdown",
   "metadata": {},
   "source": [
    "<b> STEP 1: Perform Feature Selection"
   ]
  },
  {
   "cell_type": "markdown",
   "metadata": {},
   "source": [
    "We implement a preliminary feature selection pipeline such that we do not build our Tensorflow Model on the full 129 variable input. The procedure that is implemented includes three stages: 1) Variance Threshold with Robust Scaling, 2) ANOVA f-value tests for continuous and Chi2 tests for categorical variables, and 3) Pearson's Correlation Analysis. Subsequent to the elimination of less informative features, we use a Tensorflow session to start building our model."
   ]
  },
  {
   "cell_type": "code",
   "execution_count": 3,
   "metadata": {},
   "outputs": [],
   "source": [
    "trainx, testx, trainy, testy = train_test_split(cfdata.drop(['Div_Paid?'], axis=1), cfdata['Div_Paid?'], \n",
    "                                                test_size=0.3, random_state=1)"
   ]
  },
  {
   "cell_type": "code",
   "execution_count": 4,
   "metadata": {},
   "outputs": [
    {
     "data": {
      "text/plain": [
       "0.16008194855027022"
      ]
     },
     "execution_count": 4,
     "metadata": {},
     "output_type": "execute_result"
    }
   ],
   "source": [
    "#Let us first use variance threshold analysis. The amount of acceptable deviation shall be expressed as a \n",
    "#percentage of deviation in the response variable\n",
    "v = sklearn.feature_selection.VarianceThreshold()\n",
    "v.fit(sklearn.preprocessing.RobustScaler().fit_transform(pd.DataFrame(trainy)))\n",
    "v.variances_[0]"
   ]
  },
  {
   "cell_type": "code",
   "execution_count": 5,
   "metadata": {},
   "outputs": [
    {
     "data": {
      "text/plain": [
       "Pipeline(memory=None,\n",
       "         steps=[('scale',\n",
       "                 RobustScaler(copy=True, quantile_range=(25.0, 75.0),\n",
       "                              with_centering=True, with_scaling=True)),\n",
       "                ('var', VarianceThreshold(threshold=0.12806555884021617))],\n",
       "         verbose=False)"
      ]
     },
     "execution_count": 5,
     "metadata": {},
     "output_type": "execute_result"
    }
   ],
   "source": [
    "scr = Pipeline([('scale', \n",
    "                 sklearn.preprocessing.RobustScaler()), ('var', sklearn.feature_selection.VarianceThreshold(\n",
    "    0.8 * v.variances_[0]))])\n",
    "scr.fit(trainx)"
   ]
  },
  {
   "cell_type": "code",
   "execution_count": 6,
   "metadata": {},
   "outputs": [],
   "source": [
    "#Remove the identified columns and then proceed to differentiate categorical and continuous variables for further\n",
    "#feature selection based on ANOVA f-value and chi2 goodness-of-fit\n",
    "rm = trainx.columns.values[scr['var'].get_support(indices=False)==False]\n",
    "trainx.drop(rm, axis=1, inplace=True)\n",
    "cat = set(['DistLast_'+r for r in labencdist.classes_]).union(set(['Sector_'+r for r in labencsec.classes_]))\n",
    "cat = list(set(trainx.columns.values)&set(cat))\n",
    "cont = list(set(trainx.columns.values)-set(cat))"
   ]
  },
  {
   "cell_type": "code",
   "execution_count": 7,
   "metadata": {},
   "outputs": [
    {
     "data": {
      "text/plain": [
       "13"
      ]
     },
     "execution_count": 7,
     "metadata": {},
     "output_type": "execute_result"
    }
   ],
   "source": [
    "#Chi2 tests on categorical data\n",
    "chivals, pvals = sklearn.feature_selection.chi2(trainx[cat], trainy)\n",
    "#We eliminate values at chi value of 4, approximately the requirement at a single degree of freedom\n",
    "rm = np.array(cat)[chivals < 4]\n",
    "#ANOVA f-value tests\n",
    "fvals, pvals = sklearn.feature_selection.f_classif(trainx[cont], trainy)\n",
    "#We eliminate at relative variance lower than 0.5\n",
    "rm = list(set(rm).union(set(np.array(cont)[fvals < 0.5])))\n",
    "len(rm)"
   ]
  },
  {
   "cell_type": "code",
   "execution_count": 8,
   "metadata": {},
   "outputs": [
    {
     "name": "stdout",
     "output_type": "stream",
     "text": [
      "21\n"
     ]
    }
   ],
   "source": [
    "#We eliminate any features with low correlation to the response variable\n",
    "remain = np.array(list(set(trainx.columns.values)-set(rm)))\n",
    "corrs = np.vectorize(lambda s: np.corrcoef(trainx[s], trainy)[0,1])(remain)\n",
    "rm = list(set(rm).union(set(remain[np.vectorize(lambda s: np.abs(s))(corrs) < 0.025])))\n",
    "print(len(rm))\n",
    "trainx.drop(rm, axis=1, inplace=True)"
   ]
  },
  {
   "cell_type": "markdown",
   "metadata": {},
   "source": [
    "<b> STEP 2: Prepare Data for Neural Net"
   ]
  },
  {
   "cell_type": "markdown",
   "metadata": {},
   "source": [
    "In order to ensure that the neural network is able to learn weights and biases effectively, we must scale the data and pickelize the same scaler for use during the actual simulation use. Out of the different approaches to scaling available (including StandardScaler, MinMaxScaler, and RobustScaler), we must choose wisely depending on the distributions of variables at hand. Below is an example visualization of few of the columns. As seen, there do exist outliers, which may reduce range of true values severely in StandardScaler and MinMaxScaler as they are sensitive to extreme values. Hence, we proceed with RobustScaler."
   ]
  },
  {
   "cell_type": "code",
   "execution_count": 9,
   "metadata": {},
   "outputs": [
    {
     "data": {
      "image/png": "[encoded data removed]",
      "text/plain": [
       "<Figure size 432x288 with 1 Axes>"
      ]
     },
     "metadata": {
      "needs_background": "light"
     },
     "output_type": "display_data"
    },
    {
     "data": {
      "image/png": "[encoded data removed]",
      "text/plain": [
       "<Figure size 432x288 with 1 Axes>"
      ]
     },
     "metadata": {
      "needs_background": "light"
     },
     "output_type": "display_data"
    }
   ],
   "source": [
    "cols = ['Net income', 'Total current liabilities']\n",
    "for i in range(len(cols)):\n",
    "    plt.subplot(str(len(cols))+'1'+str(i+1))\n",
    "    plt.hist(trainx[cols[i]], bins=50)\n",
    "    plt.xlabel(cols[i])\n",
    "    plt.show()"
   ]
  },
  {
   "cell_type": "code",
   "execution_count": 10,
   "metadata": {},
   "outputs": [],
   "source": [
    "rbs = sklearn.preprocessing.RobustScaler()\n",
    "rbs.fit(trainx)\n",
    "with open('tfnnscaler.pkl', 'wb') as f:\n",
    "    pickle.dump(rbs, f)\n",
    "cols = trainx.columns.values\n",
    "trainx = pd.DataFrame(rbs.transform(trainx), columns=cols)\n",
    "testx = pd.DataFrame(rbs.transform(testx[cols]), columns=cols)"
   ]
  },
  {
   "cell_type": "code",
   "execution_count": 11,
   "metadata": {},
   "outputs": [],
   "source": [
    "#We must also encode our response variable to match the softmax function needs in the neural network\n",
    "trainy.reset_index(drop=True, inplace=True)\n",
    "testy.reset_index(drop=True, inplace=True)\n",
    "trainy = pd.get_dummies(trainy)\n",
    "testy = pd.get_dummies(testy)"
   ]
  },
  {
   "cell_type": "markdown",
   "metadata": {},
   "source": [
    "<b> STEP 3: Design Tensorflow NN Architecture"
   ]
  },
  {
   "cell_type": "markdown",
   "metadata": {},
   "source": [
    "A shalloe, but wide, neural network design was chosen, and hence only one hidden layer has been used, to prevent overfitting and ease interpretability. The design of the artificial neural network shall be as follows:\n",
    "- 91-node input layer, with all 91 features shortlisted above (Shape: [None, 91])\n",
    "- 30-node hidden layer, activated by ReLU (Shape: [None, 30])\n",
    "- 2-node output layer, activated by Softmax (Shape: [None, 2])"
   ]
  },
  {
   "cell_type": "code",
   "execution_count": 12,
   "metadata": {},
   "outputs": [],
   "source": [
    "X = tf.placeholder(tf.float32, shape=[None, 91])\n",
    "Yt = tf.placeholder(tf.float32, shape=[None, 2])"
   ]
  },
  {
   "cell_type": "code",
   "execution_count": 13,
   "metadata": {},
   "outputs": [
    {
     "name": "stdout",
     "output_type": "stream",
     "text": [
      "WARNING:tensorflow:From /anaconda3/lib/python3.6/site-packages/tensorflow/python/framework/op_def_library.py:263: colocate_with (from tensorflow.python.framework.ops) is deprecated and will be removed in a future version.\n",
      "Instructions for updating:\n",
      "Colocations handled automatically by placer.\n"
     ]
    }
   ],
   "source": [
    "#Add the first layer (hidden layer)\n",
    "W1 = tf.Variable(tf.truncated_normal([91, 30], stddev=0.1))\n",
    "B1 = tf.Variable(tf.constant(0.1, shape=[30]))\n",
    "C1 = tf.matmul(X, W1) + B1\n",
    "L1 = tf.nn.relu(C1)"
   ]
  },
  {
   "cell_type": "code",
   "execution_count": 14,
   "metadata": {},
   "outputs": [],
   "source": [
    "W2 = tf.Variable(tf.truncated_normal([30, 2], stddev=0.1))\n",
    "B2 = tf.Variable(tf.constant(0.1, shape=[2]))\n",
    "C2 = tf.matmul(L1, W2) + B2\n",
    "Yp = tf.nn.softmax(C2)"
   ]
  },
  {
   "cell_type": "code",
   "execution_count": 15,
   "metadata": {},
   "outputs": [],
   "source": [
    "loss = tf.nn.l2_loss(Yp-Yt, name='squared_error_cost')\n",
    "trainer = tf.train.AdamOptimizer(1e-3).minimize(loss)\n",
    "corrpred = tf.equal(tf.argmax(Yt, 1), tf.argmax(Yp, 1))\n",
    "acc = tf.reduce_mean(tf.cast(corrpred, tf.float32))"
   ]
  },
  {
   "cell_type": "markdown",
   "metadata": {},
   "source": [
    "<b> STEP 4: Evaluate Model Performance"
   ]
  },
  {
   "cell_type": "code",
   "execution_count": 22,
   "metadata": {},
   "outputs": [],
   "source": [
    "sess = tf.Session()\n",
    "i = tf.global_variables_initializer()\n",
    "sess.run(i)"
   ]
  },
  {
   "cell_type": "code",
   "execution_count": 23,
   "metadata": {},
   "outputs": [
    {
     "name": "stdout",
     "output_type": "stream",
     "text": [
      "Accuracy = 0.61270493\n",
      "Accuracy = 0.94808745\n",
      "Accuracy = 0.9863388\n",
      "Accuracy = 0.9931694\n",
      "Accuracy = 0.99590164\n",
      "Accuracy = 0.99590164\n",
      "Accuracy = 0.99590164\n",
      "Accuracy = 0.99590164\n",
      "Accuracy = 0.99590164\n",
      "Accuracy = 0.99590164\n"
     ]
    }
   ],
   "source": [
    "for e in range(0,1000):\n",
    "    _, per, ce = sess.run([trainer, acc, loss], feed_dict={X:trainx, Yt:trainy.values})\n",
    "    if (e % 100)==0:\n",
    "        print(\"Accuracy = \"+str(per))"
   ]
  },
  {
   "cell_type": "code",
   "execution_count": 24,
   "metadata": {},
   "outputs": [
    {
     "name": "stdout",
     "output_type": "stream",
     "text": [
      "Final Test Set Accuracy = 0.95382166\n"
     ]
    }
   ],
   "source": [
    "#Final test-set accuracy\n",
    "per = sess.run(acc, feed_dict={X:testx, Yt:testy.values})\n",
    "print(\"Final Test Set Accuracy = \" + str(per))"
   ]
  },
  {
   "cell_type": "code",
   "execution_count": 18,
   "metadata": {},
   "outputs": [],
   "source": [
    "sess.close()"
   ]
  },
  {
   "cell_type": "code",
   "execution_count": null,
   "metadata": {},
   "outputs": [],
   "source": []
  }
 ],
 "metadata": {
  "kernelspec": {
   "display_name": "Python 3",
   "language": "python",
   "name": "python3"
  },
  "language_info": {
   "codemirror_mode": {
    "name": "ipython",
    "version": 3
   },
   "file_extension": ".py",
   "mimetype": "text/x-python",
   "name": "python",
   "nbconvert_exporter": "python",
   "pygments_lexer": "ipython3",
   "version": "3.6.8"
  }
 },
 "nbformat": 4,
 "nbformat_minor": 2
}
